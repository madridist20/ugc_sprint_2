{
 "cells": [
  {
   "cell_type": "code",
   "execution_count": 1,
   "id": "a7cbb8f7",
   "metadata": {
    "pycharm": {
     "name": "#%%\n"
    }
   },
   "outputs": [
    {
     "name": "stderr",
     "output_type": "stream",
     "text": [
      "Creating network \"research_default\" with the default driver\n",
      "Creating volume \"research_mongodb_data_container\" with default driver\n",
      "Creating mongodb_container ... \n",
      "\n",
      "Creating mongodb_container ... done\n",
      "\n"
     ]
    }
   ],
   "source": [
    "!docker-compose up -d --build"
   ]
  },
  {
   "cell_type": "code",
   "execution_count": 2,
   "id": "41c61f9b",
   "metadata": {},
   "outputs": [],
   "source": [
    "import time\n",
    "from typing import Callable\n",
    "from uuid import uuid4\n",
    "\n",
    "from pymongo import MongoClient"
   ]
  },
  {
   "cell_type": "code",
   "execution_count": 3,
   "id": "aef7e30c",
   "metadata": {},
   "outputs": [],
   "source": [
    "MONGO_HOST = \"127.0.0.1\"\n",
    "MONGO_PORT = 27017\n",
    "MONGO_DB = \"ugc_db\"\n",
    "MONGO_COLLECTION_LIKE = \"likedFilms\"\n",
    "MONGO_COLLECTION_REVIEW = \"reviews\"\n",
    "MONGO_COLLECTION_BOOKMARK = \"bookmarks\"\n",
    "ITERATIONS_NUMBER = 10\n",
    "USERS_IN_BATCH = 10\n",
    "OPTIMAL_BATCH_SIZE = 200\n",
    "TEST_RECORDS_SIZE = 10000\n",
    "\n",
    "client = MongoClient(MONGO_HOST, MONGO_PORT, connect=True)\n",
    "mongo_db = client[MONGO_DB]"
   ]
  },
  {
   "cell_type": "code",
   "execution_count": 4,
   "id": "f54b7b64",
   "metadata": {},
   "outputs": [],
   "source": [
    "\n",
    "\"\"\"Генерация фейковых данных для исслдеования.\"\"\"\n",
    "from random import choice, randint\n",
    "from typing import Callable\n",
    "from uuid import uuid4\n",
    "\n",
    "from faker import Faker\n",
    "\n",
    "LIKE = 1\n",
    "DISLIKE = 0\n",
    "START_DATE = \"-30d\"\n",
    "END_DATE = \"now\"\n",
    "MIN_RATING = 1\n",
    "MAX_RATING = 10\n",
    "fake = Faker()"
   ]
  },
  {
   "cell_type": "code",
   "execution_count": 5,
   "id": "08fba4da",
   "metadata": {},
   "outputs": [],
   "source": [
    "def fake_like_event(user_id: str = None, film_id: str = None) -> dict:\n",
    "    \"\"\"Генерация события like.\"\"\"\n",
    "    return {\n",
    "        \"user_id\": user_id if user_id else str(uuid4()),\n",
    "        \"film_id\": film_id if film_id else str(uuid4()),\n",
    "        \"type\": choice([LIKE, DISLIKE]),\n",
    "        \"datetime\": fake.date_time_between(start_date=START_DATE, end_date=END_DATE),\n",
    "    }"
   ]
  },
  {
   "cell_type": "code",
   "execution_count": 6,
   "id": "6c06ce65",
   "metadata": {},
   "outputs": [],
   "source": [
    "def fake_review_event(user_id: str = None, film_id: str = None) -> dict:\n",
    "    \"\"\"Генерация события review.\"\"\"\n",
    "    return {\n",
    "        \"user_id\": user_id if user_id else str(uuid4()),\n",
    "        \"film_id\": film_id if film_id else str(uuid4()),\n",
    "        \"text\": fake.text(),\n",
    "        \"rating\": randint(MIN_RATING, MAX_RATING),\n",
    "        \"datetime\": fake.date_time_between(start_date=START_DATE, end_date=END_DATE),\n",
    "    }"
   ]
  },
  {
   "cell_type": "code",
   "execution_count": 7,
   "id": "2a657d2b",
   "metadata": {},
   "outputs": [],
   "source": [
    "def fake_bookmark_event(user_id: str = None, film_id: str = None) -> dict:\n",
    "    \"\"\"Генерация события bookmark.\"\"\"\n",
    "    return {\n",
    "        \"user_id\": user_id if user_id else str(uuid4()),\n",
    "        \"film_id\": film_id if film_id else str(uuid4()),\n",
    "        \"datetime\": fake.date_time_between(start_date=START_DATE, end_date=END_DATE),\n",
    "    }"
   ]
  },
  {
   "cell_type": "code",
   "execution_count": 8,
   "id": "ab9e35c8",
   "metadata": {},
   "outputs": [],
   "source": [
    "def fake_batch(event_faker: Callable, user_size: int, batch_size: int) -> list[dict]:\n",
    "    \"\"\"Генерация батча событий.\"\"\"\n",
    "    users = [str(uuid4()) for _ in range(user_size)]\n",
    "    return [event_faker(user_id=choice(users)) for _ in range(batch_size)]"
   ]
  },
  {
   "cell_type": "code",
   "execution_count": 9,
   "id": "ab1b3be7",
   "metadata": {},
   "outputs": [],
   "source": [
    "def fake_users_batch(event_faker: Callable, users: list, batch_size: int) -> list[dict]:\n",
    "    \"\"\"Генерация батча событий с фиксированными юзерами.\"\"\"\n",
    "    return [event_faker(user_id=choice(users)) for _ in range(batch_size)]"
   ]
  },
  {
   "cell_type": "code",
   "execution_count": 10,
   "id": "700d4232",
   "metadata": {},
   "outputs": [],
   "source": [
    "def test_insert_step(\n",
    "        faker: Callable,\n",
    "        collection_name: str,\n",
    "        batch_size: int,\n",
    "        iterations: int = ITERATIONS_NUMBER,\n",
    ") -> None:\n",
    "    \"\"\"Тестирование вставки.\"\"\"\n",
    "    collection = mongo_db.get_collection(collection_name)\n",
    "    statistics = []\n",
    "    for _ in range(iterations):\n",
    "        batch = fake_batch(faker, USERS_IN_BATCH, batch_size)\n",
    "        start = time.time()\n",
    "        collection.insert_many(batch)\n",
    "        end = time.time()\n",
    "        statistics.append(end - start)\n",
    "    mean_batch = sum(statistics) / len(statistics)\n",
    "    print(\n",
    "        f\"Statistics for {collection_name} batch_size={batch_size}: batch={mean_batch} sec, \"\n",
    "        f\"item={mean_batch/batch_size} sec.\",\n",
    "    )"
   ]
  },
  {
   "cell_type": "code",
   "execution_count": 11,
   "id": "206ef5b5",
   "metadata": {},
   "outputs": [],
   "source": [
    "def test_insert(faker: Callable, collection_name: str) -> None:\n",
    "    \"\"\"Тестирование вставки с разным размером батча.\"\"\"\n",
    "    batch_sizes = [1, 10, 50, 100, 200, 500, 1000, 2000, 5000]\n",
    "    for batch_size in batch_sizes:\n",
    "        test_insert_step(faker, collection_name, batch_size)"
   ]
  },
  {
   "cell_type": "code",
   "execution_count": 12,
   "id": "58208de6",
   "metadata": {},
   "outputs": [
    {
     "name": "stdout",
     "output_type": "stream",
     "text": [
      "Statistics for likedFilms batch_size=1: batch=0.007854580879211426 sec, item=0.007854580879211426 sec.\n",
      "Statistics for likedFilms batch_size=10: batch=0.003737664222717285 sec, item=0.00037376642227172853 sec.\n",
      "Statistics for likedFilms batch_size=50: batch=0.005108976364135742 sec, item=0.00010217952728271483 sec.\n",
      "Statistics for likedFilms batch_size=100: batch=0.006158351898193359 sec, item=6.15835189819336e-05 sec.\n",
      "Statistics for likedFilms batch_size=200: batch=0.01172327995300293 sec, item=5.8616399765014646e-05 sec.\n",
      "Statistics for likedFilms batch_size=500: batch=0.023988509178161622 sec, item=4.797701835632325e-05 sec.\n",
      "Statistics for likedFilms batch_size=1000: batch=0.03752453327178955 sec, item=3.752453327178955e-05 sec.\n",
      "Statistics for likedFilms batch_size=2000: batch=0.05679442882537842 sec, item=2.839721441268921e-05 sec.\n",
      "Statistics for likedFilms batch_size=5000: batch=0.11802396774291993 sec, item=2.3604793548583984e-05 sec.\n"
     ]
    }
   ],
   "source": [
    " test_insert(\n",
    "        fake_like_event,\n",
    "        MONGO_COLLECTION_LIKE,\n",
    "    )"
   ]
  },
  {
   "cell_type": "code",
   "execution_count": 12,
   "id": "21ab067a",
   "metadata": {},
   "outputs": [
    {
     "name": "stdout",
     "output_type": "stream",
     "text": [
      "Statistics for reviews batch_size=1: batch=0.004799699783325196 sec, item=0.004799699783325196 sec.\n",
      "Statistics for reviews batch_size=10: batch=0.07557168006896972 sec, item=0.007557168006896972 sec.\n",
      "Statistics for reviews batch_size=50: batch=0.1677483558654785 sec, item=0.0033549671173095704 sec.\n",
      "Statistics for reviews batch_size=100: batch=0.4014437198638916 sec, item=0.004014437198638916 sec.\n",
      "Statistics for reviews batch_size=200: batch=0.5239423990249634 sec, item=0.002619711995124817 sec.\n",
      "Statistics for reviews batch_size=500: batch=1.2240280866622926 sec, item=0.0024480561733245853 sec.\n",
      "Statistics for reviews batch_size=1000: batch=2.921845269203186 sec, item=0.0029218452692031864 sec.\n",
      "Statistics for reviews batch_size=2000: batch=5.708000755310058 sec, item=0.002854000377655029 sec.\n",
      "Statistics for reviews batch_size=5000: batch=12.710458731651306 sec, item=0.0025420917463302613 sec.\n"
     ]
    }
   ],
   "source": [
    "test_insert(\n",
    "        fake_review_event,\n",
    "        MONGO_COLLECTION_REVIEW,\n",
    "    )"
   ]
  },
  {
   "cell_type": "code",
   "execution_count": 13,
   "id": "bb2930c4",
   "metadata": {},
   "outputs": [
    {
     "name": "stdout",
     "output_type": "stream",
     "text": [
      "Statistics for bookmarks batch_size=1: batch=0.003978061676025391 sec, item=0.003978061676025391 sec.\n",
      "Statistics for bookmarks batch_size=10: batch=0.07902326583862304 sec, item=0.007902326583862303 sec.\n",
      "Statistics for bookmarks batch_size=50: batch=0.08672583103179932 sec, item=0.0017345166206359864 sec.\n",
      "Statistics for bookmarks batch_size=100: batch=0.43888702392578127 sec, item=0.004388870239257813 sec.\n",
      "Statistics for bookmarks batch_size=200: batch=0.4062222480773926 sec, item=0.002031111240386963 sec.\n",
      "Statistics for bookmarks batch_size=500: batch=0.5381228446960449 sec, item=0.0010762456893920898 sec.\n",
      "Statistics for bookmarks batch_size=1000: batch=1.0303995847702025 sec, item=0.0010303995847702025 sec.\n",
      "Statistics for bookmarks batch_size=2000: batch=2.6336779832839965 sec, item=0.0013168389916419982 sec.\n",
      "Statistics for bookmarks batch_size=5000: batch=6.216507315635681 sec, item=0.0012433014631271363 sec.\n"
     ]
    }
   ],
   "source": [
    "test_insert(\n",
    "        fake_bookmark_event,\n",
    "        MONGO_COLLECTION_BOOKMARK,\n",
    "    )"
   ]
  },
  {
   "cell_type": "code",
   "execution_count": 17,
   "id": "313cfc3a",
   "metadata": {},
   "outputs": [],
   "source": [
    "def test_read_data(faker: Callable, collection_name: str, users_size: int) -> None:\n",
    "    \"\"\"Тестирование чтения.\"\"\"\n",
    "    statistics = []\n",
    "    collection = mongo_db.get_collection(collection_name)\n",
    "    users = [str(uuid4()) for _ in range(users_size)]\n",
    "\n",
    "    for i in range(0, TEST_RECORDS_SIZE, OPTIMAL_BATCH_SIZE):\n",
    "        batch = fake_users_batch(faker, users, batch_size=OPTIMAL_BATCH_SIZE)\n",
    "        collection.insert_many(batch)\n",
    "\n",
    "    for user in users:\n",
    "        start = time.time()\n",
    "        _ = list(collection.find({\"user_id\": user}))\n",
    "        statistics.append(time.time() - start)\n",
    "\n",
    "    mean_batch = sum(statistics) / len(statistics)\n",
    "    print(\n",
    "        f\"Statistics read for {collection_name} for ~{int(TEST_RECORDS_SIZE/users_size)} records: {mean_batch} sec\",\n",
    "    )"
   ]
  },
  {
   "cell_type": "code",
   "execution_count": 18,
   "id": "8f2ec2fc",
   "metadata": {},
   "outputs": [
    {
     "name": "stdout",
     "output_type": "stream",
     "text": [
      "Statistics read for likedFilms for ~500 records: 0.2809668183326721 sec\n"
     ]
    }
   ],
   "source": [
    "test_read_data(fake_like_event, MONGO_COLLECTION_LIKE, 20)"
   ]
  },
  {
   "cell_type": "code",
   "execution_count": 19,
   "id": "1933b47e",
   "metadata": {},
   "outputs": [
    {
     "name": "stdout",
     "output_type": "stream",
     "text": [
      "Statistics read for reviews for ~500 records: 0.34582369327545165 sec\n"
     ]
    }
   ],
   "source": [
    "test_read_data(fake_review_event, MONGO_COLLECTION_REVIEW, 20)"
   ]
  },
  {
   "cell_type": "code",
   "execution_count": 20,
   "id": "6a3cecd9",
   "metadata": {},
   "outputs": [
    {
     "name": "stdout",
     "output_type": "stream",
     "text": [
      "Statistics read for reviews for ~500 records: 0.5513761401176452 sec\n"
     ]
    }
   ],
   "source": [
    "test_read_data(fake_review_event, MONGO_COLLECTION_REVIEW, 20)"
   ]
  },
  {
   "cell_type": "code",
   "execution_count": null,
   "id": "a2bd8b65",
   "metadata": {},
   "outputs": [],
   "source": []
  }
 ],
 "metadata": {
  "kernelspec": {
   "display_name": "Python 3 (ipykernel)",
   "language": "python",
   "name": "python3"
  },
  "language_info": {
   "codemirror_mode": {
    "name": "ipython",
    "version": 3
   },
   "file_extension": ".py",
   "mimetype": "text/x-python",
   "name": "python",
   "nbconvert_exporter": "python",
   "pygments_lexer": "ipython3",
   "version": "3.9.12"
  }
 },
 "nbformat": 4,
 "nbformat_minor": 5
}